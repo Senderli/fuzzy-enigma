{
 "cells": [
  {
   "cell_type": "markdown",
   "metadata": {
    "collapsed": true
   },
   "source": [
    "# Лабораторная работа №7 \"Решение дифференциальных уравнений\"\n",
    "### Выполнил студент 430 группы Бахтин Владимир\n",
    "### Вариант 25"
   ]
  },
  {
   "cell_type": "markdown",
   "metadata": {},
   "source": [
    "Решить дифференциальное уравнение неявным симметричным методом\n",
    "$$y'''-2y''+y'-2y= e^{2x}cos(x)$$"
   ]
  },
  {
   "cell_type": "markdown",
   "metadata": {},
   "source": [
    "Широкие классы задач физики, химии, биологии, экономики и др. сводится к решению начально-краевых задач для системы обыкновенных дифференциальных уравнений. Считается, что приведение задачи к форме, например, задачи Коши является гарантией ее решения, хотя бы приближенного.\n",
    "\n",
    "Симметричная неявная схема - неустойчивая, а решение ищется в виде:\n",
    "$$\\frac{y_{n+1}-y_n}{h}+0.5A(y_{n+1}+y_n)=f_n, y_0=u_0, n=0,1,2,...$$\n",
    "\n",
    "В процессе решения, ДУ 3-го порядка сначала разбивается на систему из трех уравнений,далее применяется симметричная неявная схема,\n",
    "\n",
    "$$\\frac{p_{n+1}-p_n}{h}=0.5h(2p_{n+1}-q_{n+1}+2r_{n+1}+e^{(2x_{n+1})}cos(x_{n+1})+2p_n-q_n+2r_n+e^{(2x_n)}cos(x_n)$$\n",
    "\n",
    "$$\\frac{q_{n+1}-q_n}{h}=0.5(p_{n+1}+p_n)$$\n",
    "\n",
    "$$\\frac{r_{n+1}-r_n}{h}=0.5(q_{n+1}+q_n)$$\n",
    "\n",
    "(где p - y'', q - y', r - y)\n",
    "\n",
    "а после, корни находятся путем иттерций."
   ]
  },
  {
   "cell_type": "code",
   "execution_count": 1,
   "metadata": {
    "collapsed": true
   },
   "outputs": [],
   "source": [
    "import math \n",
    "import matplotlib.pyplot as plt \n",
    "import numpy as np \n",
    "%matplotlib inline"
   ]
  },
  {
   "cell_type": "code",
   "execution_count": 4,
   "metadata": {},
   "outputs": [],
   "source": [
    "h=0.01\n",
    "x=0.0\n",
    "Ax = [0.0 for  J in range(200)]\n",
    "Ay = [0.0 for  J in range(200)]\n",
    "M = [0.0, 0.0, 0.0]\n",
    "Y = [0.0, 0.0, 1.0]\n",
    "A = np.array([[(1.0-h), (0.5*h), -h],[(-0.5*h), 1.0, 0.0],[0.0, (-0.5*h), 1.0]])\n",
    "B = [0.0, 0.0, 0.0]\n",
    "for i in range (1,201):\n",
    "    x=x+h\n",
    "    B[0]=(1.0-h)*Y[0]+(0.5*h*Y[1])-(h*Y[2])-(0.5*h*(math.e**(2.0*x))*(math.cos(x)))+((math.e**(2.0*(x+h)))*(math.cos(x+h)))\n",
    "    B[1]=Y[1]+(0.5*h*Y[0])\n",
    "    B[2]=Y[2]+(0.5*h*Y[1])\n",
    "    BN=np.array(B)\n",
    "    np.linalg.solve(A, BN)\n",
    "    M=np.linalg.solve(A, BN)\n",
    "#     print(M[1],M[2])\n",
    "    Ax[i-1]=M[2]\n",
    "    Ay[i-1]=M[1]\n",
    "    Y[0] = M[0]\n",
    "    Y[1] = M[1]\n",
    "    Y[2] = M[2]"
   ]
  },
  {
   "cell_type": "code",
   "execution_count": 5,
   "metadata": {},
   "outputs": [
    {
     "data": {
      "image/png": "[encoded data removed]",
      "text/plain": [
       "<matplotlib.figure.Figure at 0x7c61400>"
      ]
     },
     "metadata": {},
     "output_type": "display_data"
    }
   ],
   "source": [
    "for J in range(0,200):\n",
    "    scatter=plt.scatter(Ax[J],Ay[J])\n",
    "plt.xlabel('y')\n",
    "plt.ylabel('dy/dx')\n",
    "plt.grid()\n",
    "plt.show()"
   ]
  },
  {
   "cell_type": "code",
   "execution_count": null,
   "metadata": {
    "collapsed": true
   },
   "outputs": [],
   "source": []
  }
 ],
 "metadata": {
  "anaconda-cloud": {},
  "kernelspec": {
   "display_name": "Python 3",
   "language": "python",
   "name": "python3"
  },
  "language_info": {
   "codemirror_mode": {
    "name": "ipython",
    "version": 3
   },
   "file_extension": ".py",
   "mimetype": "text/x-python",
   "name": "python",
   "nbconvert_exporter": "python",
   "pygments_lexer": "ipython3",
   "version": "3.6.7"
  }
 },
 "nbformat": 4,
 "nbformat_minor": 1
}
