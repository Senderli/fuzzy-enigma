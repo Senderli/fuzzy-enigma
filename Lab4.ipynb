{
 "cells": [
  {
   "cell_type": "markdown",
   "metadata": {},
   "source": [
    "# Лабораторная работа №4 \"Интерполяция, экстраполяция, аппроксимация функций\"\n",
    "### Выполнил студент 430 группы Бахтин Владимир\n",
    "### Вариант 25"
   ]
  },
  {
   "cell_type": "markdown",
   "metadata": {},
   "source": [
    "Интерполяционные формулы Ньютона — формулы вычислительной математики, применяющиеся\n",
    "для полиномиального интерполирования.\n",
    "Если узлы интерполяции равноотстоящие и упорядочены по величине, то интерполяционный многочлен можно записать в форме Ньютона.\n",
    "Интерполяционные полиномы в форме Ньютона удобно использовать, если точка интерполирования\n",
    "находится вблизи начала (прямая формула Ньютона) или конца таблицы (обратная формула Ньютона).\n",
    "В работе необходимо работать с интеполяционными формулами Ньютона до 3 степени включительно.\n",
    "Первая интерполяционная формула Ньютона, применяется для интерполирования вперёд:\n",
    "    $$P_n(x)=y_0+q \\delta y_0+\\frac{q(q-1)}{2}\\delta^2y_0+\\frac{q(q-1)(q-2)}{6}\\delta^3y_0)+O(\\delta^4y_0)$$\n",
    "\n",
    "Вторая интерполяционная формула Ньютона, применяется для интерполирования назад:\n",
    "    $$P_n(x)=y_n+q\\delta y_{n-1}+\\frac{q(q-1)}{2}\\delta^2y_{n-2}+\\frac{q(q-1)(q-2)}{6}\\delta^3y_{n-3}+O(\\delta^4y_{n-4})$$\n",
    "где $q=\\frac{x-x_0}{h}$, h - шаг интерполяции,\n",
    "а выражения вида $\\delta^ny_0$ — конечные разности."
   ]
  },
  {
   "cell_type": "markdown",
   "metadata": {},
   "source": [
    "Интерполяцио́нный многочле́н Лагра́нжа — многочлен минимальной степени, принимающий данные значения в данном наборе точек. Для n+1 пар чисел $(x_0, y_0), (x_1, y_1),…, (x_n, y_n)$, где все $x_j$\n",
    "различны, существует единственный многочлен L(x) степени не более n, для которого $L(x_j) = y_j$.\n",
    "В простейшем случае (n=1) — это линейный многочлен, график которого — прямая, проходящая через две заданные точки/\n",
    "Лагранж предложил способ вычисления таких многочленов:\n",
    "$$L(x)=\\sum_{i=0}^{n} y_il_i(x)$$\n",
    "где базисные полиномы определяются по формуле:\n",
    "$$l_i(x)=\\prod_{j=0,j\\ne i}^{n} \\frac{x-x_j}{x_i-x_j}  $$"
   ]
  },
  {
   "cell_type": "markdown",
   "metadata": {},
   "source": [
    "Численное дифференцирование — совокупность методов вычисления значения производной\n",
    "дискретно заданной функции.\n",
    "В основе численного дифференцирования лежит аппроксимация функции, от которой берется\n",
    "производная, интерполяционным многочленом. Все основные формулы численного дифференцирования\n",
    "могут быть получены при помощи первого интерполяционного многочлена Ньютона (формулы Ньютона\n",
    "для начала таблицы).\n",
    "Один из универсальных способов построения формул численного дифференцирования состоит в том,\n",
    "что по значениям функции в некоторых узлах строят интерполяционный полином\n",
    "(в форме Лагранжа или в форме Ньютона) и приближенно полагают:\n",
    "$$f^{(r)} \\approx P_N^{(r)}, 0\\le r\\le n  $$"
   ]
  },
  {
   "cell_type": "markdown",
   "metadata": {},
   "source": [
    "Eсли функция f (x) задана на отрезке $[0, 2p]$ в $(2N+1)$ дискретных точках, т.е. с шагом $\\frac{2p}{2N+1}$, то она может быть представлена как:\n",
    "$$f(x)=\\frac{A_0}{2}+\\sum_{k=1}^{M} (A_kcoskx+B_ksinkx)$$\n",
    "причем 0 $\\le$ M $\\le$ N и 0 $\\le$ x $\\le$ 2 p. \n",
    "\n",
    "Поскольку система функций, участвующих в разложении, ортогональна на заданном дискретном множестве точек, коэффициенты разложения представляются формулами:\n",
    "$$A_k=\\frac{2}{2N+1}\\sum_{l=0}^{2N} f(\\frac{2\\pi l}{2N+1})cos\\frac{2\\pi k}{2N+1}l, k=0,1,...,N.$$\n",
    "$$B_k=\\frac{2}{2N+1}\\sum_{l=0}^{2N} f(\\frac{2\\pi l}{2N+1})sin\\frac{2\\pi k}{2N+1}l, k=0,1,...,N.$$"
   ]
  },
  {
   "cell_type": "markdown",
   "metadata": {},
   "source": [
    "Метод наименьших квадратов (МНК, англ. Ordinary Least Squares, OLS) — математический метод, применяемый для решения\n",
    "различных задач,основанный на минимизации суммы квадратов отклонений некоторых функций от искомых переменных. Он может\n",
    "использоваться для «решения» переопределенных систем уравнений (когда количество уравнений превышает количество\n",
    "неизвестных), для поиска решения в случае обычных (не переопределенных) нелинейных систем уравнений, для аппроксимации\n",
    "точечных значений некоторой функции. МНК является одним из базовых методов регрессионного анализа для оценки неизвестных\n",
    "параметров регрессионных моделей по выборочным данным.\n",
    "Задача заключается в подборе таких значений x, чтобы значения этих функций были максимально\n",
    "близки к некоторым значениям $y_i$.\n",
    "Таким образом, сущность МНК может быть выражена следующим образом:\n",
    "$$\\sum_i (y_i-f_i(x))^2 \\to min$$"
   ]
  },
  {
   "cell_type": "code",
   "execution_count": 1,
   "metadata": {},
   "outputs": [],
   "source": [
    "import math \n",
    "import matplotlib.pyplot as plt \n",
    "import numpy as np \n",
    "%matplotlib inline"
   ]
  },
  {
   "cell_type": "code",
   "execution_count": 3,
   "metadata": {
    "collapsed": true
   },
   "outputs": [],
   "source": [
    "def J(x):\n",
    "    return 25+(x*0.1)"
   ]
  },
  {
   "cell_type": "code",
   "execution_count": 4,
   "metadata": {
    "scrolled": true
   },
   "outputs": [
    {
     "name": "stdout",
     "output_type": "stream",
     "text": [
      "x     f(x)\n",
      "25.0 -0.00055\n",
      "25.1 0.328549\n",
      "25.2 0.627288\n",
      "25.3 0.866148\n",
      "25.4 1.021332\n",
      "25.5 1.077122\n",
      "25.6 1.027476\n",
      "25.7 0.876673\n",
      "25.8 0.638952\n",
      "25.9 0.337172\n",
      "26.0 -0.00055\n",
      "\n",
      "Конечные разности 1-го рода\n",
      "0.329099  0.298739  0.23886000000000007  0.15518399999999988  0.055790000000000006  -0.04964599999999986  -0.15080300000000002  -0.23772100000000007  -0.30177999999999994  -0.337722\n",
      "\n",
      "Конечные разности 2-го рода\n",
      "-0.030359999999999998  -0.059878999999999905  -0.0836760000000002  -0.09939399999999987  -0.10543599999999986  -0.10115700000000016  -0.08691800000000005  -0.06405899999999987  -0.035942000000000085  0\n",
      "\n",
      "Конечные разности 3-го рода\n",
      "-0.029518999999999906  -0.02379700000000029  -0.015717999999999677  -0.006041999999999992  0.0042789999999997  0.014239000000000113  0.022859000000000185  0.02811699999999978  0  0\n",
      "\n",
      "Конечные разности 4-го рода\n",
      "0.005721999999999616  0.008079000000000613  0.009675999999999685  0.010320999999999692  0.009960000000000413  0.008620000000000072  0.005257999999999596  0  0  0\n",
      "\n",
      "Конечные разности 5-го рода\n",
      "0.002357000000000997  0.0015969999999990714  0.0006450000000000067  -0.00036099999999927856  -0.001340000000000341  -0.0033620000000004757  0  0  0  0\n",
      "\n",
      "Конечные разности 6-го рода\n",
      "-0.0007600000000019258  -0.0009519999999990647  -0.0010059999999992852  -0.0009790000000010624  -0.002022000000000135  0  0  0  0  0\n",
      "\n",
      "Конечные разности 7-го рода\n",
      "-0.0001919999999971389  -5.400000000022054e-05  2.699999999822289e-05  -0.0010429999999990724  0  0  0  0  0  0\n",
      "\n",
      "Конечные разности 8-го рода\n",
      "0.00013799999999691837  8.099999999844343e-05  -0.0010699999999972953  0  0  0  0  0  0  0\n",
      "\n",
      "Конечные разности 9-го рода\n",
      "-5.699999999847494e-05  -0.0011509999999957388  0  0  0  0  0  0  0  0\n",
      "\n",
      "Конечные разности 10-го рода\n",
      "-0.0010939999999972638  0  0  0  0  0  0  0  0  0\n",
      "\n"
     ]
    }
   ],
   "source": [
    "f = [-0.00055, 0.328549, 0.627288, 0.866148, 1.021332, 1.077122, 1.027476, 0.876673, 0.638952, 0.337172, -0.00055]\n",
    "print('x','    f(x)')\n",
    "for i in range (0,11):\n",
    "    J(i)\n",
    "    print(J(i), f[i])\n",
    "print('')\n",
    "n = 10\n",
    "m = 10\n",
    "Q = [[0] * m for i in range(n)]\n",
    "k=10\n",
    "for i in range (0,10):\n",
    "    for j in range (0,k):\n",
    "        if i==0:\n",
    "            Q[j][i]=f[j+1]-f[j]\n",
    "        if i!=0:\n",
    "            Q[j][i]=Q[j+1][i-1]-Q[j][i-1]\n",
    "    k=k-1\n",
    "    ##print(k)\n",
    "for i in range (0,10):\n",
    "    print('Конечные разности {0}-го рода'.format(i+1))\n",
    "    print('{0}  {1}  {2}  {3}  {4}  {5}  {6}  {7}  {8}  {9}'.format(Q[0][i], Q[1][i], Q[2][i], Q[3][i], Q[4][i], Q[5][i], Q[6][i],Q[7][i],Q[8][i],Q[9][i]))\n",
    "    print('')"
   ]
  },
  {
   "cell_type": "code",
   "execution_count": 5,
   "metadata": {
    "collapsed": true
   },
   "outputs": [],
   "source": [
    "def q(i,j):\n",
    "    return (i-J(j))/0.1"
   ]
  },
  {
   "cell_type": "markdown",
   "metadata": {},
   "source": [
    "Интерполяция многочленом Ньютона"
   ]
  },
  {
   "cell_type": "markdown",
   "metadata": {},
   "source": [
    "линейная интерполяция"
   ]
  },
  {
   "cell_type": "code",
   "execution_count": 6,
   "metadata": {},
   "outputs": [
    {
     "data": {
      "image/png": "[encoded data removed]",
      "text/plain": [
       "<matplotlib.figure.Figure at 0x7412dd8>"
      ]
     },
     "metadata": {},
     "output_type": "display_data"
    }
   ],
   "source": [
    "for j in range (0,11):\n",
    "    if j<5:\n",
    "        x = np.arange(J(j), J(j+1)+0.0000001, 0.001)\n",
    "        X = np.arange(J(j), J(j+1)+0.0000001, 0.1)\n",
    "        ##u[j]=(f[j+1]-f[j])\n",
    "        ##y =[f[j]+(((i-J(j-2))/0.1)*u[j]) for i in x]\n",
    "        y =[f[j]+(q(i,j)*Q[j][0]) for i in x]\n",
    "        Y =[f[j]+(q(i,j)*Q[j][0]) for i in X]\n",
    "        plt.plot(x,y,'r-')\n",
    "        plt.plot(X,Y,'yo')\n",
    "        if j==0:\n",
    "            u = np.arange(24.8, 25, 0.001)\n",
    "            u1 = np.arange(24.8, 25, 0.1)\n",
    "            U = [f[j]+(q(i,j)*Q[j][0]) for i in u]\n",
    "            U1 = [f[j]+(q(i,j)*Q[j][0]) for i in u1]\n",
    "            plt.plot(u,U,'g-')\n",
    "            plt.plot(u1,U1,'yo')\n",
    "    if j>5:\n",
    "        n=15-j\n",
    "        x = np.arange(J(n+1), J(n)-0.0000001, -0.001)\n",
    "        X = np.arange(J(n+1), J(n)-0.0000001, -0.1)\n",
    "        ##u[n]=(f[n+1]-f[n])\n",
    "        ##y =[f[n]+(((i-J(n-2))/0.1)*u[n]) for i in x]\n",
    "        y =[f[n+1]+(q(i,n+1)*Q[n][0]) for i in x]\n",
    "        Y =[f[n+1]+(q(i,n+1)*Q[n][0]) for i in X]\n",
    "        plt.plot(x,y,'b-')\n",
    "        plt.plot(X,Y,'yo')\n",
    "        if j==6:\n",
    "            u = np.arange(26.2, 26, -0.001)\n",
    "            u1 = np.arange(26.2, 26, -0.1)\n",
    "            U = [f[n+1]+(q(i,n+1)*Q[n][0]) for i in u]\n",
    "            U1 = [f[n+1]+(q(i,n+1)*Q[n][0]) for i in u1]\n",
    "            plt.plot(u,U,'g-')\n",
    "            plt.plot(u1,U1,'yo')\n",
    "plt.grid() \n",
    "plt.show()"
   ]
  },
  {
   "cell_type": "markdown",
   "metadata": {},
   "source": [
    "квадратичная интерполяция"
   ]
  },
  {
   "cell_type": "code",
   "execution_count": 7,
   "metadata": {},
   "outputs": [
    {
     "data": {
      "image/png": "[encoded data removed]",
      "text/plain": [
       "<matplotlib.figure.Figure at 0x73faf28>"
      ]
     },
     "metadata": {},
     "output_type": "display_data"
    }
   ],
   "source": [
    "for j in range (0,11):\n",
    "    if j<5:\n",
    "        x = np.arange(J(j)-0.0000001, J(j+1), 0.001)\n",
    "        X = np.arange(J(j)-0.0000001, J(j+1), 0.1)\n",
    "        y =[f[j]+(q(i,j)*Q[j][0])+(q(i,j)*(q(i,j)-1)*0.5*Q[j][1]) for i in x]\n",
    "        Y =[f[j]+(q(i,j)*Q[j][0])+(q(i,j)*(q(i,j)-1)*0.5*Q[j][1]) for i in X]\n",
    "        plt.plot(x,y,'r-')\n",
    "        plt.plot(X,Y,'yo')\n",
    "        if j==0:\n",
    "            u = np.arange(24.8, 25, 0.001)\n",
    "            u1 = np.arange(24.8, 25, 0.1)\n",
    "            U = [f[j]+(q(i,j)*Q[j][0])+(q(i,j)*(q(i,j)-1)*0.5*Q[j][1]) for i in u]\n",
    "            U1 = [f[j]+(q(i,j)*Q[j][0])+(q(i,j)*(q(i,j)-1)*0.5*Q[j][1]) for i in u1]\n",
    "            plt.plot(u,U,'g-')\n",
    "            plt.plot(u1,U1,'yo')\n",
    "    if j>5:\n",
    "        n=15-j\n",
    "        x = np.arange(J(n+1), J(n)-0.000000000001, -0.001)\n",
    "        X = np.arange(J(n+1), J(n)-0.000000000001, -0.1)\n",
    "        ##y =[f[n]+(((i-J(n-2))/0.1)*u[n]) for i in x]\n",
    "        y =[f[n+1]+(q(i,n+1)*Q[n][0])+(q(i,n+1)*(q(i,n+1)+1)*0.5*Q[n-1][1]) for i in x]\n",
    "        Y =[f[n+1]+(q(i,n+1)*Q[n][0])+(q(i,n+1)*(q(i,n+1)+1)*0.5*Q[n-1][1]) for i in X]\n",
    "        plt.plot(x,y,'b-')\n",
    "        plt.plot(X,Y,'yo')\n",
    "        if j==6:\n",
    "            u = np.arange(26.2, 26, -0.001)\n",
    "            u1 = np.arange(26.2, 26, -0.1)\n",
    "            U = [f[n+1]+(q(i,n+1)*Q[n][0])+(q(i,n+1)*(q(i,n+1)+1)*0.5*Q[n-1][1]) for i in u]\n",
    "            U1 = [f[n+1]+(q(i,n+1)*Q[n][0])+(q(i,n+1)*(q(i,n+1)+1)*0.5*Q[n-1][1]) for i in u1]\n",
    "            plt.plot(u,U,'g-')\n",
    "            plt.plot(u1,U1,'yo')\n",
    "plt.grid() \n",
    "plt.show()"
   ]
  },
  {
   "cell_type": "markdown",
   "metadata": {},
   "source": [
    "кубическая интерполяция"
   ]
  },
  {
   "cell_type": "code",
   "execution_count": 8,
   "metadata": {
    "scrolled": true
   },
   "outputs": [
    {
     "data": {
      "image/png": "[encoded data removed]",
      "text/plain": [
       "<matplotlib.figure.Figure at 0x7b08c18>"
      ]
     },
     "metadata": {},
     "output_type": "display_data"
    }
   ],
   "source": [
    "for j in range (0,11):\n",
    "    if j<5:\n",
    "        x = np.arange(J(j)-0.0000001, J(j+1), 0.001)\n",
    "        X = np.arange(J(j)-0.0000001, J(j+1), 0.1)\n",
    "        y =[f[j]+(q(i,j)*Q[j][0])+(q(i,j)*(q(i,j)-1)*0.5*Q[j][1])+(q(i,j)*(q(i,j)-1)*(q(i,j)-2)*0.16666667*Q[j][2]) for i in x]\n",
    "        Y =[f[j]+(q(i,j)*Q[j][0])+(q(i,j)*(q(i,j)-1)*0.5*Q[j][1])+(q(i,j)*(q(i,j)-1)*(q(i,j)-2)*0.16666667*Q[j][2]) for i in X]\n",
    "        plt.plot(x,y,'r-')\n",
    "        plt.plot(X,Y,'yo')\n",
    "        if j==0:\n",
    "            u = np.arange(24.8, 25, 0.001)\n",
    "            u1 = np.arange(24.8, 25, 0.1)\n",
    "            U = [f[j]+(q(i,j)*Q[j][0])+(q(i,j)*(q(i,j)-1)*0.5*Q[j][1])+(q(i,j)*(q(i,j)-1)*(q(i,j)-2)*0.16666667*Q[j][2]) for i in u]\n",
    "            U1 = [f[j]+(q(i,j)*Q[j][0])+(q(i,j)*(q(i,j)-1)*0.5*Q[j][1])+(q(i,j)*(q(i,j)-1)*(q(i,j)-2)*0.16666667*Q[j][2]) for i in u1]\n",
    "            plt.plot(u,U,'g-')\n",
    "            plt.plot(u1,U1,'yo')\n",
    "    if j>5:\n",
    "        n=15-j\n",
    "        x = np.arange(J(n+1), J(n)-0.000000000001, -0.001)\n",
    "        X = np.arange(J(n+1), J(n)-0.000000000001, -0.1)\n",
    "        ##y =[f[n]+(((i-J(n-2))/0.1)*u[n]) for i in x]\n",
    "        y =[f[n+1]+(q(i,n+1)*Q[n][0])+(q(i,n+1)*(q(i,n+1)+1)*0.5*Q[n-1][1])+(q(i,n+1)*(q(i,n+1)+1)*(q(i,n+1)+2)*0.16666667*Q[n-2][2]) for i in x]\n",
    "        Y =[f[n+1]+(q(i,n+1)*Q[n][0])+(q(i,n+1)*(q(i,n+1)+1)*0.5*Q[n-1][1])+(q(i,n+1)*(q(i,n+1)+1)*(q(i,n+1)+2)*0.16666667*Q[n-2][2]) for i in X]\n",
    "        plt.plot(x,y,'b-')\n",
    "        plt.plot(X,Y,'yo')\n",
    "        if j==6:\n",
    "            u = np.arange(26.2, 26, -0.001)\n",
    "            u1 = np.arange(26.2, 26, -0.1)\n",
    "            U = [f[n+1]+(q(i,n+1)*Q[n][0])+(q(i,n+1)*(q(i,n+1)+1)*0.5*Q[n-1][1])+(q(i,n+1)*(q(i,n+1)+1)*(q(i,n+1)+2)*0.16666667*Q[n-2][2]) for i in u]\n",
    "            U1 = [f[n+1]+(q(i,n+1)*Q[n][0])+(q(i,n+1)*(q(i,n+1)+1)*0.5*Q[n-1][1])+(q(i,n+1)*(q(i,n+1)+1)*(q(i,n+1)+2)*0.16666667*Q[n-2][2]) for i in u1]\n",
    "            plt.plot(u,U,'g-')\n",
    "            plt.plot(u1,U1,'yo')\n",
    "plt.grid() \n",
    "plt.show()"
   ]
  },
  {
   "cell_type": "markdown",
   "metadata": {},
   "source": [
    "Интерполяция многочленом Лагранжа"
   ]
  },
  {
   "cell_type": "code",
   "execution_count": 9,
   "metadata": {},
   "outputs": [],
   "source": [
    "def w(i,j):\n",
    "    return i-J(j)\n",
    "def T(i,j):\n",
    "    if j == 0: \n",
    "        return w(i,0)\n",
    "    else:\n",
    "        return T(i,j-1)*w(i,j)\n",
    "def r(k):\n",
    "    R=1.0\n",
    "    for a in range (0,11):\n",
    "        if a!=k:\n",
    "            R=R*w(J(k),a)\n",
    "    return R \n",
    "def l(i,k):\n",
    "    if i!=J(k):\n",
    "        return T(i,10)/((i-J(k))*r(k))\n",
    "    else:\n",
    "        return 1.0\n",
    "def s(i,k):\n",
    "    return f[k]*l(i,k)\n",
    "def S(i,k):\n",
    "    if k == 0: \n",
    "        return s(i,0)\n",
    "    else:\n",
    "        return S(i,k-1)+s(i,k)"
   ]
  },
  {
   "cell_type": "code",
   "execution_count": 10,
   "metadata": {
    "scrolled": true
   },
   "outputs": [
    {
     "name": "stdout",
     "output_type": "stream",
     "text": [
      "x     f(x)\n",
      "25.0  -0.00055\n",
      "25.05  0.16581070494839278\n",
      "25.1  0.328549\n",
      "25.15  0.48365932518768445\n",
      "25.2  0.627288\n",
      "25.25  0.7558555195846535\n",
      "25.3  0.866148\n",
      "25.35  0.9553939775924714\n",
      "25.4  1.021332\n",
      "25.45  1.0622683749923707\n",
      "25.5  1.077122\n",
      "25.55  1.065453311393738\n",
      "25.6  1.027476\n",
      "25.65  0.9640521696090728\n",
      "25.7  0.876673\n",
      "25.75  0.7674266469039899\n",
      "25.8  0.638952\n",
      "25.85  0.4943699581222556\n",
      "25.9  0.337172\n",
      "25.95  0.17102796068569673\n",
      "26.0  -0.00055\n"
     ]
    }
   ],
   "source": [
    "print('x','    f(x)')\n",
    "for j in range (0,21):\n",
    "    i=0.5*j\n",
    "    print(J(i),'',S(J(i),10))"
   ]
  },
  {
   "cell_type": "code",
   "execution_count": 11,
   "metadata": {},
   "outputs": [
    {
     "data": {
      "image/png": "[encoded data removed]",
      "text/plain": [
       "<matplotlib.figure.Figure at 0x7413470>"
      ]
     },
     "metadata": {},
     "output_type": "display_data"
    }
   ],
   "source": [
    "##for i in range (25,26):\n",
    "##    if i!=J(k):\n",
    "##        print (S(i,10))\n",
    "x = np.arange(25.0-0.00000001, 26.0, 0.1)\n",
    "y = [S(i,10) for i in x]\n",
    "plt.plot(x,y,'-r')\n",
    "plt.plot(x,y,'yo') \n",
    "plt.grid() \n",
    "plt.show()"
   ]
  },
  {
   "cell_type": "markdown",
   "metadata": {},
   "source": [
    "Численное дифференцирование"
   ]
  },
  {
   "cell_type": "code",
   "execution_count": 12,
   "metadata": {},
   "outputs": [],
   "source": [
    "def f1(i):\n",
    "    return (S(i+0.1,10)-S(i,10))/h\n",
    "def f2(i):\n",
    "    return (S(i+0.1,10)-2*S(i,10)+S(i-0.1,10))/(h**2)"
   ]
  },
  {
   "cell_type": "markdown",
   "metadata": {},
   "source": [
    "1-ая производная"
   ]
  },
  {
   "cell_type": "code",
   "execution_count": 13,
   "metadata": {
    "scrolled": true
   },
   "outputs": [
    {
     "data": {
      "image/png": "[encoded data removed]",
      "text/plain": [
       "<matplotlib.figure.Figure at 0x7b51dd8>"
      ]
     },
     "metadata": {},
     "output_type": "display_data"
    },
    {
     "name": "stdout",
     "output_type": "stream",
     "text": [
      "32.909900145\n",
      "32.7488898614\n",
      "32.5558012378\n",
      "32.3306836757\n",
      "32.0736482773\n",
      "31.7848623285\n",
      "31.4645444528\n",
      "31.112960373\n",
      "30.7304192195\n",
      "30.3172703255\n",
      "29.8739004583\n"
     ]
    }
   ],
   "source": [
    "h=0.01\n",
    "x = np.arange(25.0-0.00000001, 26.0, 0.01) \n",
    "y = [f1(i) for i in x]\n",
    "plt.plot(x,y,'r-')\n",
    "plt.grid() \n",
    "plt.show()\n",
    "for i in range (0,11):\n",
    "    print (y[i])"
   ]
  },
  {
   "cell_type": "markdown",
   "metadata": {},
   "source": [
    "2-ая производная"
   ]
  },
  {
   "cell_type": "code",
   "execution_count": 14,
   "metadata": {},
   "outputs": [
    {
     "data": {
      "image/png": "[encoded data removed]",
      "text/plain": [
       "<matplotlib.figure.Figure at 0x74ea160>"
      ]
     },
     "metadata": {},
     "output_type": "display_data"
    },
    {
     "name": "stdout",
     "output_type": "stream",
     "text": [
      "0.105700301747\n",
      "-3.03599968663\n",
      "-5.98789972882\n",
      "-8.3675997991\n",
      "-9.93939988926\n",
      "-10.543599991\n",
      "-10.115700094\n",
      "-8.69180018871\n",
      "-6.40590026352\n",
      "-3.59420028432\n",
      "-1.23090014641\n"
     ]
    }
   ],
   "source": [
    "h=0.1\n",
    "x = np.arange(25.0-0.00000001, 26.0, 0.1) \n",
    "y = [f2(i) for i in x]\n",
    "plt.plot(x,y,'r-')\n",
    "plt.grid() \n",
    "plt.show()\n",
    "for i in range (0,11):\n",
    "    print (y[i])"
   ]
  },
  {
   "cell_type": "markdown",
   "metadata": {},
   "source": [
    "Тригонометрическая аппроксимация"
   ]
  },
  {
   "cell_type": "code",
   "execution_count": 15,
   "metadata": {
    "scrolled": true
   },
   "outputs": [
    {
     "data": {
      "image/png": "[encoded data removed]",
      "text/plain": [
       "<matplotlib.figure.Figure at 0x745dda0>"
      ]
     },
     "metadata": {},
     "output_type": "display_data"
    },
    {
     "name": "stdout",
     "output_type": "stream",
     "text": [
      "25.0 -0.00670723543063612\n",
      "25.1 0.01170409340191772\n",
      "25.2 0.03525829534915767\n",
      "25.3 0.06408271943451319\n",
      "25.4 0.09788779489810832\n",
      "25.5 0.13594796018738275\n",
      "25.6 0.17714908215061678\n",
      "25.7 0.2200968030686414\n",
      "25.8 0.2632706824432995\n",
      "25.9 0.30520173579164583\n",
      "26.0 0.3446471482927076\n"
     ]
    }
   ],
   "source": [
    "def A(k,l):\n",
    "    if l == 0: \n",
    "        return f[0]*(2/11)\n",
    "    else:\n",
    "        return A(k,l-1)+((2/11)*(f[l]*math.cos((2*math.pi*l*k)/11)))\n",
    "def B(k,l):\n",
    "    if l == 0: \n",
    "        return f[0]*(2/11)\n",
    "    else:\n",
    "        return B(k,l-1)+((2/11)*(f[l]*math.sin((2*math.pi*l*k)/11)))\n",
    "def Tr(i,k,l):\n",
    "    if k == 1: \n",
    "        return ((A(1,l)*math.cos(i))+(B(1,l)*math.sin(i)))+(A(0,l)/2)\n",
    "    else:\n",
    "        return Tr(i,k-1,l)+((A(k,l)*math.cos(k*i))+(B(k,l)*math.sin(k*i)))\n",
    "x = np.arange(0, 2*math.pi, (2*math.pi)/110) \n",
    "y = [Tr(i,7,10) for i in x]\n",
    "##xx = np.arange(25, 26, 0.1)\n",
    "plt.plot((x/(109*(2*math.pi)/110))+25,y,'r-')\n",
    "for u in range (0,11):\n",
    "    U=f[u]\n",
    "    X = np.arange((2*u*math.pi)/11, ((2*(u+1.0)*math.pi)/11)-0.0000000001, (2*math.pi)/11)\n",
    "    Y = [U for i in X] \n",
    "    plt.plot((X/(10*(2*math.pi)/11))+25,Y,'oy')\n",
    "#plt.plot(np.linspace(25.0,26.0,11),f,'yo')\n",
    "plt.grid() \n",
    "plt.show()\n",
    "for i in range (0,11):\n",
    "    p=i*(2*math.pi)/11\n",
    "    print((p/(10*(2*math.pi)/11))+25,y[i])"
   ]
  },
  {
   "cell_type": "code",
   "execution_count": 16,
   "metadata": {},
   "outputs": [
    {
     "data": {
      "text/plain": [
       "[<matplotlib.lines.Line2D at 0x7ab4f60>]"
      ]
     },
     "execution_count": 16,
     "metadata": {},
     "output_type": "execute_result"
    },
    {
     "data": {
      "image/png": "[encoded data removed]",
      "text/plain": [
       "<matplotlib.figure.Figure at 0x7bad9b0>"
      ]
     },
     "metadata": {},
     "output_type": "display_data"
    }
   ],
   "source": [
    "plt.plot(np.linspace(25.0,26.0,11),f)"
   ]
  },
  {
   "cell_type": "markdown",
   "metadata": {},
   "source": [
    "Аппроксимация методом наименьших квадратов"
   ]
  },
  {
   "cell_type": "code",
   "execution_count": 17,
   "metadata": {},
   "outputs": [
    {
     "name": "stdout",
     "output_type": "stream",
     "text": [
      "[280.5, 7153.85, 182479.275, 4655367.5333, 118784850.12075001, 3031340489.153405, 77370408870.37267, 1975065377750.9985, 50425982377755.55, 1287637007076340.5, 3.288505660278482e+16, 8.399813781038473e+17]\n",
      "\n",
      "[6.799612000000001, 173.39977380000002, 4422.25116368, 112789.522664814, 2876898.7552333036, 73385600.49003522, 1872093636.9350789]\n"
     ]
    }
   ],
   "source": [
    "import numpy\n",
    "def F(z,h,e,d,c,b,a,o):\n",
    "    return (h*(z**6))+(e*(z**5))+(d*(z**4))+(c*(z**3))+(b*(z**2))+(a*z)+o\n",
    "n=12\n",
    "I=0\n",
    "Q1 = [ 0.0 for i in range (n)]\n",
    "for i in range (0,12):\n",
    "    for j in range (0,11):\n",
    "        I=J(j)**(i+1)\n",
    "        Q1[i]=Q1[i]+I\n",
    "print(Q1)\n",
    "print('')\n",
    "n=7\n",
    "U=0\n",
    "Q2 = [ 0.0 for i in range (n)]\n",
    "for i in range (0,7):\n",
    "    for j in range (0,11):\n",
    "        U=((J(j))**i)*(f[j])\n",
    "        Q2[i]=Q2[i]+U\n",
    "print(Q2)"
   ]
  },
  {
   "cell_type": "code",
   "execution_count": 18,
   "metadata": {
    "scrolled": true
   },
   "outputs": [
    {
     "name": "stdout",
     "output_type": "stream",
     "text": [
      "[[  8.39981378e+17   3.28850566e+16   1.28763701e+15   5.04259824e+13\n",
      "    1.97506538e+12   7.73704089e+10   3.03134049e+09]\n",
      " [  3.28850566e+16   1.28763701e+15   5.04259824e+13   1.97506538e+12\n",
      "    7.73704089e+10   3.03134049e+09   1.18784850e+08]\n",
      " [  1.28763701e+15   5.04259824e+13   1.97506538e+12   7.73704089e+10\n",
      "    3.03134049e+09   1.18784850e+08   4.65536753e+06]\n",
      " [  5.04259824e+13   1.97506538e+12   7.73704089e+10   3.03134049e+09\n",
      "    1.18784850e+08   4.65536753e+06   1.82479275e+05]\n",
      " [  1.97506538e+12   7.73704089e+10   3.03134049e+09   1.18784850e+08\n",
      "    4.65536753e+06   1.82479275e+05   7.15385000e+03]\n",
      " [  7.73704089e+10   3.03134049e+09   1.18784850e+08   4.65536753e+06\n",
      "    1.82479275e+05   7.15385000e+03   2.80500000e+02]\n",
      " [  3.03134049e+09   1.18784850e+08   4.65536753e+06   1.82479275e+05\n",
      "    7.15385000e+03   2.80500000e+02   1.10000000e+01]]\n",
      "[  1.87209364e+09   7.33856005e+07   2.87689876e+06   1.12789523e+05\n",
      "   4.42225116e+03   1.73399774e+02   6.79961200e+00]\n",
      "[array([ -1.04178816e-03,   6.65579248e-02,   3.33261267e-02,\n",
      "        -9.07822506e+01,   2.38211664e+03,  -1.99210091e+04,\n",
      "         1.90200118e+04])]\n",
      "\n",
      "-0.0010417881628\n",
      "0.0665579248179\n",
      "0.0333261267063\n",
      "-90.7822505601\n",
      "2382.1166401\n",
      "-19921.0090715\n",
      "19020.0118484\n"
     ]
    },
    {
     "data": {
      "image/png": "[encoded data removed]",
      "text/plain": [
       "<matplotlib.figure.Figure at 0x7c0e940>"
      ]
     },
     "metadata": {},
     "output_type": "display_data"
    }
   ],
   "source": [
    "##n=6\n",
    "M2 = numpy.array([[Q1[11],Q1[10],Q1[9],Q1[8],Q1[7],Q1[6],Q1[5]],[Q1[10],Q1[9],Q1[8],Q1[7],Q1[6],Q1[5],Q1[4]],[Q1[9],Q1[8],Q1[7],Q1[6],Q1[5],Q1[4],Q1[3]],[Q1[8],Q1[7],Q1[6],Q1[5],Q1[4],Q1[3],Q1[2]],[Q1[7],Q1[6],Q1[5],Q1[4],Q1[3],Q1[2],Q1[1]],[Q1[6],Q1[5],Q1[4],Q1[3],Q1[2],Q1[1],Q1[0]],[Q1[5],Q1[4],Q1[3],Q1[2],Q1[1],Q1[0],11]]) # Матрица (левая часть системы)\n",
    "v2 = numpy.array([Q2[6],Q2[5],Q2[4],Q2[3],Q2[2],Q2[1],Q2[0]]) # Вектор (правая часть системы)\n",
    "print(M2)\n",
    "print(v2)\n",
    "numpy.linalg.solve(M2, v2)\n",
    "M=[numpy.linalg.solve(M2, v2)]\n",
    "print(M)\n",
    "print('')\n",
    "for c in range (0,7):\n",
    "    print (M[0][c])\n",
    "x = np.arange(25.0, 26.0+0.00000000001, 0.1)\n",
    "y = [((-0.0010417881628)*(z**6))+((0.0665579248179)*(z**5))+((0.0333261267063)*(z**4))+((-90.7822505601)*(z**3))+((2382.1166401)*(z**2))+((-19921.0090715)*z)+(19020.0118484) for z in x]\n",
    "for u in range (0,11):\n",
    "    U=f[u]\n",
    "    X = np.arange(25+(0.1*u),25+(0.1*(u+0.000001)),0.00000001)\n",
    "    Y = [U for i in X] \n",
    "    plt.plot(X,Y,'ks')\n",
    "plt.plot(x,y,'-r')\n",
    "plt.plot(x,y,'ys') \n",
    "plt.grid() \n",
    "plt.show()"
   ]
  },
  {
   "cell_type": "code",
   "execution_count": 19,
   "metadata": {},
   "outputs": [
    {
     "name": "stdout",
     "output_type": "stream",
     "text": [
      "[[  1.28763701e+15   5.04259824e+13   1.97506538e+12   7.73704089e+10\n",
      "    3.03134049e+09   1.18784850e+08]\n",
      " [  5.04259824e+13   1.97506538e+12   7.73704089e+10   3.03134049e+09\n",
      "    1.18784850e+08   4.65536753e+06]\n",
      " [  1.97506538e+12   7.73704089e+10   3.03134049e+09   1.18784850e+08\n",
      "    4.65536753e+06   1.82479275e+05]\n",
      " [  7.73704089e+10   3.03134049e+09   1.18784850e+08   4.65536753e+06\n",
      "    1.82479275e+05   7.15385000e+03]\n",
      " [  3.03134049e+09   1.18784850e+08   4.65536753e+06   1.82479275e+05\n",
      "    7.15385000e+03   2.80500000e+02]\n",
      " [  1.18784850e+08   4.65536753e+06   1.82479275e+05   7.15385000e+03\n",
      "    2.80500000e+02   1.10000000e+01]]\n",
      "[  7.33856005e+07   2.87689876e+06   1.12789523e+05   4.42225116e+03\n",
      "   1.73399774e+02   6.79961200e+00]\n",
      "\n",
      "0.0236789826403\n",
      "0.807128805126\n",
      "-236.408793251\n",
      "11004.6948998\n",
      "-203658.517273\n",
      "1360891.25849\n"
     ]
    },
    {
     "data": {
      "image/png": "[encoded data removed]",
      "text/plain": [
       "<matplotlib.figure.Figure at 0x7c722b0>"
      ]
     },
     "metadata": {},
     "output_type": "display_data"
    }
   ],
   "source": [
    "##n=5\n",
    "M2 = numpy.array([[Q1[9],Q1[8],Q1[7],Q1[6],Q1[5],Q1[4]],[Q1[8],Q1[7],Q1[6],Q1[5],Q1[4],Q1[3]],[Q1[7],Q1[6],Q1[5],Q1[4],Q1[3],Q1[2]],[Q1[6],Q1[5],Q1[4],Q1[3],Q1[2],Q1[1]],[Q1[5],Q1[4],Q1[3],Q1[2],Q1[1],Q1[0]],[Q1[4],Q1[3],Q1[2],Q1[1],Q1[0],11]]) # Матрица (левая часть системы)\n",
    "v2 = numpy.array([Q2[5],Q2[4],Q2[3],Q2[2],Q2[1],Q2[0]]) # Вектор (правая часть системы)\n",
    "print(M2)\n",
    "print(v2)\n",
    "numpy.linalg.solve(M2, v2)\n",
    "M=[numpy.linalg.solve(M2, v2)]\n",
    "print('')\n",
    "for c in range (0,6):\n",
    "    print (M[0][c])\n",
    "x = np.arange(25.0, 26.0+0.0000000001, 0.1)\n",
    "y = [((0.0236789826403)*(z**5))+((0.807128805126)*(z**4))+((-236.408793251)*(z**3))+((11004.6948998)*(z**2))+((-203658.517273)*z)+(1360891.25849) for z in x]\n",
    "for u in range (0,11):\n",
    "    U=f[u]\n",
    "    X = np.arange(25+(0.1*u),25+(0.1*(u+0.000001)),0.00000001)\n",
    "    Y = [U for i in X] \n",
    "    plt.plot(X,Y,'ks')\n",
    "plt.plot(x,y,'-r')\n",
    "plt.plot(x,y,'ys')\n",
    "plt.grid() \n",
    "plt.show()"
   ]
  },
  {
   "cell_type": "code",
   "execution_count": 20,
   "metadata": {},
   "outputs": [
    {
     "name": "stdout",
     "output_type": "stream",
     "text": [
      "[[  1.97506538e+12   7.73704089e+10   3.03134049e+09   1.18784850e+08\n",
      "    4.65536753e+06]\n",
      " [  7.73704089e+10   3.03134049e+09   1.18784850e+08   4.65536753e+06\n",
      "    1.82479275e+05]\n",
      " [  3.03134049e+09   1.18784850e+08   4.65536753e+06   1.82479275e+05\n",
      "    7.15385000e+03]\n",
      " [  1.18784850e+08   4.65536753e+06   1.82479275e+05   7.15385000e+03\n",
      "    2.80500000e+02]\n",
      " [  4.65536753e+06   1.82479275e+05   7.15385000e+03   2.80500000e+02\n",
      "    1.10000000e+01]]\n",
      "[  2.87689876e+06   1.12789523e+05   4.42225116e+03   1.73399774e+02\n",
      "   6.79961200e+00]\n",
      "\n",
      "0.670038423935\n",
      "-68.461395534\n",
      "2618.66710782\n",
      "-44441.5589479\n",
      "282347.553899\n"
     ]
    },
    {
     "data": {
      "image/png": "[encoded data removed]",
      "text/plain": [
       "<matplotlib.figure.Figure at 0x7aa7e48>"
      ]
     },
     "metadata": {},
     "output_type": "display_data"
    }
   ],
   "source": [
    "##n=4\n",
    "M2 = numpy.array([[Q1[7],Q1[6],Q1[5],Q1[4],Q1[3]],[Q1[6],Q1[5],Q1[4],Q1[3],Q1[2]],[Q1[5],Q1[4],Q1[3],Q1[2],Q1[1]],[Q1[4],Q1[3],Q1[2],Q1[1],Q1[0]],[Q1[3],Q1[2],Q1[1],Q1[0],11]]) # Матрица (левая часть системы)\n",
    "v2 = numpy.array([Q2[4],Q2[3],Q2[2],Q2[1],Q2[0]]) # Вектор (правая часть системы)\n",
    "print(M2)\n",
    "print(v2)\n",
    "numpy.linalg.solve(M2, v2)\n",
    "M=[numpy.linalg.solve(M2, v2)]\n",
    "print('')\n",
    "for c in range (0,5):\n",
    "    print (M[0][c])\n",
    "x = np.arange(25.0, 26.0+0.00000001, 0.1)\n",
    "y = [((0.670038423935)*(z**4))+((-68.461395534)*(z**3))+((2618.66710782)*(z**2))+((-44441.5589479)*z)+(282347.553899) for z in x]\n",
    "for u in range (0,11):\n",
    "    U=f[u]\n",
    "    X = np.arange(25+(0.1*u),25+(0.1*(u+0.000001)),0.00000001)\n",
    "    Y = [U for i in X] \n",
    "    plt.plot(X,Y,'ks')\n",
    "plt.plot(x,y,'-r')\n",
    "plt.plot(x,y,'ys') \n",
    "plt.grid() \n",
    "plt.show()"
   ]
  },
  {
   "cell_type": "code",
   "execution_count": 21,
   "metadata": {},
   "outputs": [
    {
     "name": "stdout",
     "output_type": "stream",
     "text": [
      "[[  3.03134049e+09   1.18784850e+08   4.65536753e+06   1.82479275e+05]\n",
      " [  1.18784850e+08   4.65536753e+06   1.82479275e+05   7.15385000e+03]\n",
      " [  4.65536753e+06   1.82479275e+05   7.15385000e+03   2.80500000e+02]\n",
      " [  1.82479275e+05   7.15385000e+03   2.80500000e+02   1.10000000e+01]]\n",
      "[  1.12789523e+05   4.42225116e+03   1.73399774e+02   6.79961200e+00]\n",
      "\n",
      "-0.123628558153\n",
      "5.15037812606\n",
      "-21.4700798191\n",
      "-750.565990433\n"
     ]
    },
    {
     "data": {
      "image/png": "[encoded data removed]",
      "text/plain": [
       "<matplotlib.figure.Figure at 0x7d8f9b0>"
      ]
     },
     "metadata": {},
     "output_type": "display_data"
    }
   ],
   "source": [
    "##n=3\n",
    "M2 = numpy.array([[Q1[5],Q1[4],Q1[3],Q1[2]],[Q1[4],Q1[3],Q1[2],Q1[1]],[Q1[3],Q1[2],Q1[1],Q1[0]],[Q1[2],Q1[1],Q1[0],11]]) # Матрица (левая часть системы)\n",
    "v2 = numpy.array([Q2[3],Q2[2],Q2[1],Q2[0]]) # Вектор (правая часть системы)\n",
    "print(M2)\n",
    "print(v2)\n",
    "numpy.linalg.solve(M2, v2)\n",
    "M=[numpy.linalg.solve(M2, v2)]\n",
    "print('')\n",
    "for c in range (0,4):\n",
    "    print (M[0][c])\n",
    "x = np.arange(25.0, 26.0+0.00000001, 0.1)\n",
    "y = [((-0.123628558153)*(z**3))+((5.15037812606)*(z**2))+((-21.4700798191)*z)+(-750.565990433) for z in x]\n",
    "for u in range (0,11):\n",
    "    U=f[u]\n",
    "    X = np.arange(25+(0.1*u),25+(0.1*(u+0.000001)),0.00000001)\n",
    "    Y = [U for i in X] \n",
    "    plt.plot(X,Y,'ks')\n",
    "plt.plot(x,y,'-r')\n",
    "plt.plot(x,y,'ys') \n",
    "plt.grid() \n",
    "plt.show()"
   ]
  },
  {
   "cell_type": "code",
   "execution_count": 22,
   "metadata": {},
   "outputs": [
    {
     "name": "stdout",
     "output_type": "stream",
     "text": [
      "[[  4.65536753e+06   1.82479275e+05   7.15385000e+03]\n",
      " [  1.82479275e+05   7.15385000e+03   2.80500000e+02]\n",
      " [  7.15385000e+03   2.80500000e+02   1.10000000e+01]]\n",
      "[ 4422.25116368   173.3997738      6.799612  ]\n",
      "\n",
      "-4.3072063855\n",
      "219.676314569\n",
      "-2799.93620216\n"
     ]
    },
    {
     "data": {
      "image/png": "[encoded data removed]",
      "text/plain": [
       "<matplotlib.figure.Figure at 0x7d8acf8>"
      ]
     },
     "metadata": {},
     "output_type": "display_data"
    }
   ],
   "source": [
    "##n=2\n",
    "M2 = numpy.array([[Q1[3],Q1[2],Q1[1]],[Q1[2],Q1[1],Q1[0]],[Q1[1],Q1[0],11]]) # Матрица (левая часть системы)\n",
    "v2 = numpy.array([Q2[2],Q2[1],Q2[0]]) # Вектор (правая часть системы)\n",
    "print(M2)\n",
    "print(v2)\n",
    "numpy.linalg.solve(M2, v2)\n",
    "M=[numpy.linalg.solve(M2, v2)]\n",
    "print('')\n",
    "for c in range (0,3):\n",
    "    print (M[0][c])\n",
    "x = np.arange(25.0, 26.0+0.00000001, 0.1)\n",
    "y = [(((-4.3072063855)*(i**2))+((219.676314569)*i)-(2799.93620216)) for i in x]\n",
    "for u in range (0,11):\n",
    "    U=f[u]\n",
    "    X = np.arange(25+(0.1*u),25+(0.1*(u+0.000001)),0.00000001)\n",
    "    Y = [U for i in X] \n",
    "    plt.plot(X,Y,'ks')\n",
    "plt.plot(x,y,'-r')\n",
    "plt.plot(x,y,'ys') \n",
    "plt.grid() \n",
    "plt.show()"
   ]
  },
  {
   "cell_type": "code",
   "execution_count": 23,
   "metadata": {},
   "outputs": [
    {
     "name": "stdout",
     "output_type": "stream",
     "text": [
      "[[ 7153.85   280.5 ]\n",
      " [  280.5     11.  ]]\n",
      "[ 173.3997738    6.799612 ]\n",
      "\n",
      "0.0087889090909\n",
      "0.394029363637\n"
     ]
    },
    {
     "data": {
      "image/png": "[encoded data removed]",
      "text/plain": [
       "<matplotlib.figure.Figure at 0x7b28320>"
      ]
     },
     "metadata": {},
     "output_type": "display_data"
    }
   ],
   "source": [
    "##n=1\n",
    "M2 = numpy.array([[Q1[1],Q1[0]],[Q1[0],11]]) # Матрица (левая часть системы)\n",
    "v2 = numpy.array([Q2[1],Q2[0]]) # Вектор (правая часть системы)\n",
    "print(M2)\n",
    "print(v2)\n",
    "numpy.linalg.solve(M2, v2)\n",
    "M=[numpy.linalg.solve(M2, v2)]\n",
    "print('')\n",
    "for c in range (0,2):\n",
    "    print (M[0][c])\n",
    "x = np.arange(25.0, 26.0+0.00000001, 0.1)\n",
    "y = [(((0.0087889090909)*i)+(0.394029363637)) for i in x]\n",
    "for u in range (0,11):\n",
    "    U=f[u]\n",
    "    X = np.arange(25+(0.1*u),25+(0.1*(u+0.000001)),0.00000001)\n",
    "    Y = [U for i in X] \n",
    "    plt.plot(X,Y,'ks')\n",
    "plt.plot(x,y,'-r')\n",
    "plt.plot(x,y,'ys') \n",
    "plt.grid() \n",
    "plt.show()"
   ]
  },
  {
   "cell_type": "code",
   "execution_count": null,
   "metadata": {
    "collapsed": true
   },
   "outputs": [],
   "source": []
  },
  {
   "cell_type": "code",
   "execution_count": null,
   "metadata": {
    "collapsed": true
   },
   "outputs": [],
   "source": []
  },
  {
   "cell_type": "code",
   "execution_count": null,
   "metadata": {
    "collapsed": true
   },
   "outputs": [],
   "source": []
  }
 ],
 "metadata": {
  "anaconda-cloud": {},
  "kernelspec": {
   "display_name": "Python 3",
   "language": "python",
   "name": "python3"
  },
  "language_info": {
   "codemirror_mode": {
    "name": "ipython",
    "version": 3
   },
   "file_extension": ".py",
   "mimetype": "text/x-python",
   "name": "python",
   "nbconvert_exporter": "python",
   "pygments_lexer": "ipython3",
   "version": "3.6.7"
  }
 },
 "nbformat": 4,
 "nbformat_minor": 1
}
