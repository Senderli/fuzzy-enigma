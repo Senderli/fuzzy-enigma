{
 "cells": [
  {
   "cell_type": "markdown",
   "metadata": {},
   "source": [
    "# Лабораторная работа №3 \"Решение нелинейных уравнений\"\n",
    "### Выполнил студент 430 группы Бахтин Владимир\n",
    "### Вариант 25"
   ]
  },
  {
   "cell_type": "markdown",
   "metadata": {},
   "source": [
    "Импортируем библиотеки для построения графиков:"
   ]
  },
  {
   "cell_type": "code",
   "execution_count": 3,
   "metadata": {
    "collapsed": true
   },
   "outputs": [],
   "source": [
    "import math \n",
    "import matplotlib.pyplot as plt \n",
    "import numpy as np "
   ]
  },
  {
   "cell_type": "markdown",
   "metadata": {},
   "source": [
    "#### Первое задание"
   ]
  },
  {
   "cell_type": "markdown",
   "metadata": {},
   "source": [
    "Необходимо найти решение уранения методом дихотомии и методом хорд с определенной точностью. Необходимо определить корни с использованием аналитической оценки. \n",
    "\n",
    "Дано:\n",
    "\n",
    "y=x^3-18*x-10 - уравнение;\n",
    "\n",
    "е=0.001 - точность измерений"
   ]
  },
  {
   "cell_type": "markdown",
   "metadata": {},
   "source": [
    "   Локализуем хотя бы один корень аналитически. В процессе поиска будем пользоваться теоремами, согласно которым при иттерации выделится промежуток с корнями (1) и на этом промежутке есть только один корень (2): (1) f(x)*f(x+1)<0 при условии, что f(x); (2) f'(x)*f'(x+1)>0."
   ]
  },
  {
   "cell_type": "code",
   "execution_count": 14,
   "metadata": {},
   "outputs": [
    {
     "name": "stdout",
     "output_type": "stream",
     "text": [
      "левый край\n",
      "4\n",
      "правый край\n",
      "5\n",
      "первая производная слева\n",
      "30\n",
      "первая производная справа\n",
      "57\n",
      "вторая производная слева\n",
      "24\n",
      "вторая производная справа\n",
      "30\n"
     ]
    }
   ],
   "source": [
    "e=0.001\n",
    "for x in range (1, 10):\n",
    "    y=x**3-18*x-10\n",
    "    z=(x+1)**3-18*(x+1)-10\n",
    "    n=3*x**2-18\n",
    "    m=3*(x+1)**2-18\n",
    "    if y*z<0 and n*m>0:\n",
    "        print('левый край')\n",
    "        print(x)\n",
    "        print('правый край')\n",
    "        print(x+1)\n",
    "        break\n",
    "d=6*x\n",
    "t=6*(x+1)\n",
    "print('первая производная слева')        \n",
    "print(n)\n",
    "print('первая производная справа')\n",
    "print(m)\n",
    "print('вторая производная слева')\n",
    "print(d)\n",
    "print('вторая производная справа')\n",
    "print(t)\n",
    "p=x"
   ]
  },
  {
   "cell_type": "markdown",
   "metadata": {},
   "source": [
    "Найдем корень методом дихотомии:"
   ]
  },
  {
   "cell_type": "code",
   "execution_count": 7,
   "metadata": {},
   "outputs": [
    {
     "name": "stdout",
     "output_type": "stream",
     "text": [
      "количство иттераций\n",
      "14\n",
      "корень\n",
      "4.4970703125\n"
     ]
    }
   ],
   "source": [
    "a=4\n",
    "b=5\n",
    "for q in range (1, 20):\n",
    "    k=(a+b)/2\n",
    "    i=k**3-18*k-10\n",
    "    j=a**3-18*a-10\n",
    "    if j*i>0:\n",
    "        a=k\n",
    "    if j*i<0:\n",
    "        b=k\n",
    "    if abs(i)<e:\n",
    "        print('количство иттераций')\n",
    "        print(q+p)\n",
    "        print('корень')\n",
    "        print(k)\n",
    "        break"
   ]
  },
  {
   "cell_type": "markdown",
   "metadata": {},
   "source": [
    "Найдем корень методом хорд:"
   ]
  },
  {
   "cell_type": "code",
   "execution_count": 8,
   "metadata": {},
   "outputs": [
    {
     "name": "stdout",
     "output_type": "stream",
     "text": [
      "количство иттераций\n",
      "9\n",
      "корень\n",
      "4.497041170494431\n"
     ]
    }
   ],
   "source": [
    "a=4\n",
    "b=5\n",
    "J=b**3-18*b-10\n",
    "for w in range (1,20):\n",
    "    I=a**3-18*a-10\n",
    "    g=a-((I*(b-a))/(J-I))\n",
    "    if abs(g-a)<e:\n",
    "        print('количство иттераций')\n",
    "        print(w+p)\n",
    "        print('корень')\n",
    "        print(g)\n",
    "        break\n",
    "    a=g"
   ]
  },
  {
   "cell_type": "markdown",
   "metadata": {},
   "source": [
    "#### Второе задание"
   ]
  },
  {
   "cell_type": "markdown",
   "metadata": {},
   "source": [
    "Необходимо найти решение уранения методом Ньютона и методом прямой иттерации с определенной точностью. Необходимо определить корни с использованием графической оценки.\n",
    "\n",
    "Дано:\n",
    "\n",
    "y=x*(2^x)-3 - уравнение;\n",
    "\n",
    "е=0.001 - точность измерений"
   ]
  },
  {
   "cell_type": "markdown",
   "metadata": {},
   "source": [
    "Локализуем графически корень"
   ]
  },
  {
   "cell_type": "code",
   "execution_count": 9,
   "metadata": {
    "collapsed": true
   },
   "outputs": [],
   "source": [
    "x = np.arange(-3, 3, 0.1) \n",
    "y = [i*(2**i)-3 for i in x]\n",
    "\n",
    "plt.plot(x,y) \n",
    "plt.grid() \n",
    "plt.show()"
   ]
  },
  {
   "cell_type": "markdown",
   "metadata": {},
   "source": [
    "Найдем корень методом Ньютона:"
   ]
  },
  {
   "cell_type": "code",
   "execution_count": 10,
   "metadata": {
    "scrolled": true
   },
   "outputs": [
    {
     "name": "stdout",
     "output_type": "stream",
     "text": [
      "количство иттераций\n",
      "3\n",
      "корень\n",
      "1.2560590042287663\n"
     ]
    }
   ],
   "source": [
    "from math import log\n",
    "a=1\n",
    "b=2\n",
    "for i in range (1,20):\n",
    "    I=a*(2**a)-3\n",
    "    J=(2**a)+(a*(2**a)*log(2))\n",
    "    k=a-((I)/(J))\n",
    "    L=k*(2**k)-3\n",
    "    if abs(L)<e and abs(k-a)<e:\n",
    "        print('количство иттераций')\n",
    "        print(i)\n",
    "        print('корень')\n",
    "        print(k)\n",
    "        break\n",
    "    a=k"
   ]
  },
  {
   "cell_type": "markdown",
   "metadata": {},
   "source": [
    "Найдем корень методом прямой иттерации:"
   ]
  },
  {
   "cell_type": "code",
   "execution_count": 11,
   "metadata": {},
   "outputs": [
    {
     "name": "stdout",
     "output_type": "stream",
     "text": [
      "количство иттераций\n",
      "4\n",
      "корень\n",
      "1.2559713520872753\n"
     ]
    }
   ],
   "source": [
    "a=1\n",
    "b=2\n",
    "t=-0.2\n",
    "for w in range (1,20):\n",
    "    I=a*(2**a)-3\n",
    "    k=a+t*I\n",
    "    L=k*(2**k)-3\n",
    "    if abs(L)<e:\n",
    "        print('количство иттераций')\n",
    "        print(w)\n",
    "        print('корень')\n",
    "        print(k)\n",
    "        break\n",
    "    a=k"
   ]
  },
  {
   "cell_type": "markdown",
   "metadata": {},
   "source": [
    "#### Третье задание"
   ]
  },
  {
   "cell_type": "markdown",
   "metadata": {},
   "source": [
    "Необходимо найти решение системы уранений методом Ньютона с определенной точностью.\n",
    "\n",
    "Дано:\n",
    "\n",
    "(x^3)+(y^3)=8 - 1-ое уравнение системы\n",
    "\n",
    "y=1-(x^(1.5)) - 2-ое уравнение системы;\n",
    "\n",
    "е=0.0001 - точность измерений"
   ]
  },
  {
   "cell_type": "code",
   "execution_count": 12,
   "metadata": {
    "scrolled": true
   },
   "outputs": [
    {
     "name": "stdout",
     "output_type": "stream",
     "text": [
      "количство иттераций\n",
      "54\n",
      "корень:\n",
      "x:\n",
      "(-0.4749678824770673+0.8226685044136843j)\n",
      "y:\n",
      "(1.9258515514770993+3.170419276814303e-17j)\n",
      "Подстановка значений в систему:\n",
      "(5.684341886080802e-14-1.4683692009434155e-16j)\n",
      "(-2.9976021664879227e-15+1.4508830666834745e-16j)\n"
     ]
    }
   ],
   "source": [
    "from math import sqrt\n",
    "a=0.001+0.j\n",
    "b=0.001+0.j\n",
    "e=0.0001\n",
    "A=0+0.j\n",
    "B=0+0.j\n",
    "for w in range (1,100):\n",
    "    i=(a**3)+(b**3)-8\n",
    "    I=b-1+(a**(1.5))\n",
    "    k=3*(a**2)\n",
    "    K=(1.5)*(a**(0.5))\n",
    "    u=3*(b**2)\n",
    "    U=1\n",
    "    g=(-((i*U)-(I*u))/((k*U)-(u*K)))\n",
    "    h=(-((k*I)-(K*i))/((k*U)-(u*K)))\n",
    "    A=a+g\n",
    "    B=b+h\n",
    "    l=(A**3)+(B**3)-8\n",
    "    L=B-1+(A**(1.5))\n",
    "    if abs(l)<e and abs(L)<e and sqrt(((abs(A-a))**2)+((abs(B-b))**2))<e:\n",
    "        print('количство иттераций')\n",
    "        print(w)\n",
    "        print('корень:')\n",
    "        print('x:')\n",
    "        print(A)\n",
    "        print('y:')\n",
    "        print(B)\n",
    "        print('Подстановка значений в систему:')\n",
    "        print(l)\n",
    "        print(L)\n",
    "        break\n",
    "    a=A\n",
    "    b=B"
   ]
  },
  {
   "cell_type": "markdown",
   "metadata": {},
   "source": [
    "Решение получилось в комплексной области."
   ]
  },
  {
   "cell_type": "markdown",
   "metadata": {},
   "source": [
    " "
   ]
  },
  {
   "cell_type": "markdown",
   "metadata": {},
   "source": [
    "#### Примечание:  для подтверждения работоспособности программы в области вещественных решений рассмотрим систему варианта (24). Она почти идентична системе варианта (25) и, что важно, имеет пересечения в вещественной области. "
   ]
  },
  {
   "cell_type": "markdown",
   "metadata": {},
   "source": [
    "Необходимо найти решение системы уранений методом Ньютона с определенной точностью.\n",
    "\n",
    "Дано:\n",
    "\n",
    "(x^3)+(y^3)=8 - 1-ое уравнение системы\n",
    "\n",
    "y=1+(x^(1.5)) - 2-ое уравнение системы;\n",
    "\n",
    "е=0.0001 - точность измерений\n"
   ]
  },
  {
   "cell_type": "code",
   "execution_count": 13,
   "metadata": {},
   "outputs": [
    {
     "name": "stdout",
     "output_type": "stream",
     "text": [
      "количство иттераций\n",
      "4\n",
      "корень\n",
      "x:\n",
      "0.9499357649614951\n",
      "y:\n",
      "1.9258515514832948\n",
      "Подстановка значений в систему:\n",
      "8.891731795301894e-11\n",
      "-4.567901612517744e-12\n"
     ]
    }
   ],
   "source": [
    "from math import sqrt\n",
    "a=0.8\n",
    "b=1.6\n",
    "e=0.0001\n",
    "for w in range (1,10):\n",
    "    i=(a**3)+(b**3)-8\n",
    "    I=b-1-(a**(1.5))\n",
    "    k=3*(a**2)\n",
    "    K=-(1.5)*(a**(0.5))\n",
    "    u=3*(b**2)\n",
    "    U=1\n",
    "    g=(-((i*U)-(I*u))/((k*U)-(u*K)))\n",
    "    h=(-((k*I)-(K*i))/((k*U)-(u*K)))\n",
    "    A=a+g\n",
    "    B=b+h\n",
    "    l=(A**3)+(B**3)-8\n",
    "    L=B-1-(A**(1.5))\n",
    "    if abs(l)<e and abs(L)<e and sqrt((pow(A-a,2))+(pow(B-b,2)))<e:\n",
    "        print('количство иттераций')\n",
    "        print(w)\n",
    "        print('корень')\n",
    "        print('x:')\n",
    "        print(A)\n",
    "        print('y:')\n",
    "        print(B)\n",
    "        print('Подстановка значений в систему:')\n",
    "        print(l)\n",
    "        print(L)\n",
    "        break\n",
    "    a=A\n",
    "    b=B"
   ]
  }
 ],
 "metadata": {
  "anaconda-cloud": {},
  "kernelspec": {
   "display_name": "Python 3",
   "language": "python",
   "name": "python3"
  },
  "language_info": {
   "codemirror_mode": {
    "name": "ipython",
    "version": 3
   },
   "file_extension": ".py",
   "mimetype": "text/x-python",
   "name": "python",
   "nbconvert_exporter": "python",
   "pygments_lexer": "ipython3",
   "version": "3.6.7"
  }
 },
 "nbformat": 4,
 "nbformat_minor": 1
}
